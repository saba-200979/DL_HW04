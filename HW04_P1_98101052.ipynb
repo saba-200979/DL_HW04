{
 "cells": [
  {
   "cell_type": "markdown",
   "id": "f087e000",
   "metadata": {},
   "source": [
    "# GRU"
   ]
  },
  {
   "cell_type": "markdown",
   "id": "488c7a75",
   "metadata": {},
   "source": [
    "the following link has been used for developing the code:\n",
    "https://pytorch.org/tutorials/intermediate/seq2seq_translation_tutorial.html"
   ]
  },
  {
   "cell_type": "code",
   "execution_count": 6,
   "id": "2f3685bd",
   "metadata": {},
   "outputs": [],
   "source": [
    "from __future__ import unicode_literals, print_function, division\n",
    "from io import open\n",
    "import unicodedata\n",
    "import string\n",
    "import re\n",
    "import random\n",
    "import torch\n",
    "import torch.nn as nn\n",
    "from torch import optim\n",
    "import torch.nn.functional as F\n",
    "import numpy\n",
    "from torch.utils.data import DataLoader\n",
    "from torch.utils.data import Dataset\n",
    "import torchvision.transforms as transforms\n",
    "from itertools import groupby\n",
    "from operator import itemgetter\n",
    "from collections import Counter\n",
    "\n",
    "device = torch.device(\"cuda\" if torch.cuda.is_available() else \"cpu\")"
   ]
  },
  {
   "cell_type": "code",
   "execution_count": 7,
   "id": "bdbb9f1e",
   "metadata": {},
   "outputs": [],
   "source": [
    "line=[]\n",
    "with open(str(\"./Desktop/ferdousi.txt\"), encoding = 'utf-8') as file:\n",
    "            line = [line.rstrip() for line in file]"
   ]
  },
  {
   "cell_type": "code",
   "execution_count": 8,
   "id": "ccbda034",
   "metadata": {},
   "outputs": [],
   "source": [
    "lines=[line[2*x+2]+\" \"+line[2*x+3] for x in range(49608)]"
   ]
  },
  {
   "cell_type": "code",
   "execution_count": 9,
   "id": "a245032c",
   "metadata": {},
   "outputs": [],
   "source": [
    "SOS_token = 0\n",
    "EOS_token = 1\n",
    "\n",
    "class Lang:\n",
    "    def __init__(self, name):\n",
    "        self.name = name\n",
    "        self.word2index = {}\n",
    "        self.word2count = {}\n",
    "        self.index2word = {0: \"SOS\", 1: \"EOS\"}\n",
    "        self.n_words = 2  # Count SOS and EOS\n",
    "\n",
    "    def addSentence(self, sentence):\n",
    "        for word in sentence.split(' '):\n",
    "            self.addWord(word)\n",
    "\n",
    "    def addWord(self, word):\n",
    "        if word not in self.word2index:\n",
    "            self.word2index[word] = self.n_words\n",
    "            self.word2count[word] = 1\n",
    "            self.index2word[self.n_words] = word\n",
    "            self.n_words += 1\n",
    "        else:\n",
    "            self.word2count[word] += 1\n",
    "            "
   ]
  },
  {
   "cell_type": "code",
   "execution_count": 10,
   "id": "d41076e9",
   "metadata": {},
   "outputs": [],
   "source": [
    "pairs=[]\n",
    "for i in range(len(lines)-1):\n",
    "    a=[lines[i],lines[i+1]]\n",
    "    pairs.append(a)\n",
    "    "
   ]
  },
  {
   "cell_type": "code",
   "execution_count": 11,
   "id": "872b381c",
   "metadata": {},
   "outputs": [],
   "source": [
    "dictionary=Lang(\"words\")\n",
    "for i in range(len(lines)):\n",
    "    dictionary.addSentence(lines[i])\n",
    "    \n",
    "    "
   ]
  },
  {
   "cell_type": "code",
   "execution_count": 12,
   "id": "a1673ef9",
   "metadata": {},
   "outputs": [
    {
     "data": {
      "text/plain": [
       "18011"
      ]
     },
     "execution_count": 12,
     "metadata": {},
     "output_type": "execute_result"
    }
   ],
   "source": [
    "len(dictionary.word2index)"
   ]
  },
  {
   "cell_type": "code",
   "execution_count": 13,
   "id": "e9b2772b",
   "metadata": {},
   "outputs": [],
   "source": [
    "MAX_LENGTH=max([len(lines[i].split(\" \")) for i in range(len(lines))])\n",
    "    "
   ]
  },
  {
   "cell_type": "code",
   "execution_count": 14,
   "id": "466e56ce",
   "metadata": {},
   "outputs": [
    {
     "data": {
      "text/plain": [
       "20"
      ]
     },
     "execution_count": 14,
     "metadata": {},
     "output_type": "execute_result"
    }
   ],
   "source": [
    "MAX_LENGTH"
   ]
  },
  {
   "cell_type": "code",
   "execution_count": 15,
   "id": "6381e86b",
   "metadata": {},
   "outputs": [],
   "source": [
    "class EncoderRNN(nn.Module):\n",
    "    def __init__(self, input_size, hidden_size):\n",
    "        super(EncoderRNN, self).__init__()\n",
    "        self.hidden_size = hidden_size\n",
    "\n",
    "        self.embedding = nn.Embedding(input_size, hidden_size)\n",
    "        self.gru = nn.GRU(hidden_size, hidden_size)\n",
    "\n",
    "    def forward(self, input, hidden):\n",
    "        embedded = self.embedding(input).view(1, 1, -1)\n",
    "        output = embedded\n",
    "        output, hidden = self.gru(output, hidden)\n",
    "        return output, hidden\n",
    "\n",
    "    def initHidden(self):\n",
    "        return torch.zeros(1, 1, self.hidden_size, device=device)\n",
    "    \n",
    "    "
   ]
  },
  {
   "cell_type": "code",
   "execution_count": 16,
   "id": "7f46fdb2",
   "metadata": {},
   "outputs": [],
   "source": [
    "class AttnDecoderRNN(nn.Module):\n",
    "    def __init__(self, hidden_size, output_size, dropout_p=0.1, max_length=MAX_LENGTH):\n",
    "        super(AttnDecoderRNN, self).__init__()\n",
    "        self.hidden_size = hidden_size\n",
    "        self.output_size = output_size\n",
    "        self.dropout_p = dropout_p\n",
    "        self.max_length = max_length\n",
    "\n",
    "        self.embedding = nn.Embedding(self.output_size, self.hidden_size)\n",
    "        self.attn = nn.Linear(self.hidden_size * 2, self.max_length)\n",
    "        self.attn_combine = nn.Linear(self.hidden_size * 2, self.hidden_size)\n",
    "        self.dropout = nn.Dropout(self.dropout_p)\n",
    "        self.gru = nn.GRU(self.hidden_size, self.hidden_size)\n",
    "        self.out = nn.Linear(self.hidden_size, self.output_size)\n",
    "\n",
    "    def forward(self, input, hidden, encoder_outputs):\n",
    "        embedded = self.embedding(input).view(1, 1, -1)\n",
    "        embedded = self.dropout(embedded)\n",
    "\n",
    "        attn_weights = F.softmax(\n",
    "            self.attn(torch.cat((embedded[0], hidden[0]), 1)), dim=1)\n",
    "        attn_applied = torch.bmm(attn_weights.unsqueeze(0),\n",
    "                                 encoder_outputs.unsqueeze(0))\n",
    "\n",
    "        output = torch.cat((embedded[0], attn_applied[0]), 1)\n",
    "        output = self.attn_combine(output).unsqueeze(0)\n",
    "\n",
    "        output = F.relu(output)\n",
    "        output, hidden = self.gru(output, hidden)\n",
    "\n",
    "        output = F.log_softmax(self.out(output[0]), dim=1)\n",
    "        return output, hidden, attn_weights\n",
    "\n",
    "    def initHidden(self):\n",
    "        return torch.zeros(1, 1, self.hidden_size, device=device)\n",
    "    "
   ]
  },
  {
   "cell_type": "code",
   "execution_count": 17,
   "id": "f983ab67",
   "metadata": {},
   "outputs": [],
   "source": [
    "def indexesFromSentence(lang, sentence):\n",
    "    return [lang.word2index[word] for word in sentence.split(' ')]\n",
    "\n",
    "\n",
    "def tensorFromSentence(lang, sentence):\n",
    "    indexes = indexesFromSentence(lang, sentence)\n",
    "    indexes.append(EOS_token)\n",
    "    return torch.tensor(indexes, dtype=torch.long, device=device).view(-1, 1)\n",
    "\n",
    "\n",
    "def tensorsFromPair(pair):\n",
    "    input_tensor = tensorFromSentence(dictionary, pair[0])\n",
    "    target_tensor = tensorFromSentence(dictionary, pair[1])\n",
    "    return (input_tensor, target_tensor)\n"
   ]
  },
  {
   "cell_type": "code",
   "execution_count": 18,
   "id": "40b5e4e4",
   "metadata": {},
   "outputs": [],
   "source": [
    "teacher_forcing_ratio = 1\n",
    "\n",
    "\n",
    "def train(input_tensor, target_tensor, encoder, decoder, encoder_optimizer, decoder_optimizer, criterion, max_length=MAX_LENGTH):\n",
    "    encoder_hidden = encoder.initHidden()\n",
    "\n",
    "    encoder_optimizer.zero_grad()\n",
    "    decoder_optimizer.zero_grad()\n",
    "\n",
    "    input_length = input_tensor.size(0)\n",
    "    target_length = target_tensor.size(0)\n",
    "\n",
    "    encoder_outputs = torch.zeros(max_length, encoder.hidden_size, device=device)\n",
    "\n",
    "    loss = 0\n",
    "\n",
    "    for ei in range(input_length):\n",
    "        encoder_output, encoder_hidden = encoder(\n",
    "            input_tensor[ei], encoder_hidden)\n",
    "        encoder_outputs[ei] = encoder_output[0, 0]\n",
    "\n",
    "    decoder_input = torch.tensor([[SOS_token]], device=device)\n",
    "\n",
    "    decoder_hidden = encoder_hidden\n",
    "\n",
    "    use_teacher_forcing = True if random.random() < teacher_forcing_ratio else False\n",
    "\n",
    "    if use_teacher_forcing:\n",
    "        \n",
    "        for di in range(target_length):\n",
    "            decoder_output, decoder_hidden, decoder_attention = decoder(\n",
    "                decoder_input, decoder_hidden, encoder_outputs)\n",
    "            loss += criterion(decoder_output, target_tensor[di])\n",
    "            decoder_input = target_tensor[di]  # Teacher forcing\n",
    "\n",
    "    else:\n",
    "       \n",
    "        for di in range(target_length):\n",
    "            decoder_output, decoder_hidden, decoder_attention = decoder(\n",
    "                decoder_input, decoder_hidden, encoder_outputs)\n",
    "            topv, topi = decoder_output.topk(1)\n",
    "            decoder_input = topi.squeeze().detach()  # detach from history as input\n",
    "\n",
    "            loss += criterion(decoder_output, target_tensor[di])\n",
    "            if decoder_input.item() == EOS_token:\n",
    "                break\n",
    "\n",
    "    loss.backward()\n",
    "\n",
    "    encoder_optimizer.step()\n",
    "    decoder_optimizer.step()\n",
    "\n",
    "    return loss.item() / target_length"
   ]
  },
  {
   "cell_type": "code",
   "execution_count": 37,
   "id": "af45376b",
   "metadata": {},
   "outputs": [],
   "source": [
    "\n",
    "plot_losses = []"
   ]
  },
  {
   "cell_type": "code",
   "execution_count": 38,
   "id": "34cce032",
   "metadata": {},
   "outputs": [],
   "source": [
    "\n",
    "def trainIters(encoder, decoder, n_iters, print_every=100, plot_every=100, learning_rate=0.01):\n",
    "    global plot_losses\n",
    "    print_loss_total = 0  # Reset every print_every\n",
    "    plot_loss_total = 0  # Reset every plot_every\n",
    "\n",
    "    encoder_optimizer = optim.Adam(encoder.parameters(), lr=learning_rate)\n",
    "    decoder_optimizer = optim.Adam(decoder.parameters(), lr=learning_rate)\n",
    "    training_pairs = [tensorsFromPair(random.choice(pairs))\n",
    "                      for i in range(n_iters)]\n",
    "    criterion = nn.CrossEntropyLoss()\n",
    "\n",
    "    for iter in range(1, n_iters + 1):\n",
    "        training_pair = training_pairs[iter - 1]\n",
    "        input_tensor = training_pair[0]\n",
    "        target_tensor = training_pair[1]\n",
    "\n",
    "        loss = train(input_tensor, target_tensor, encoder,\n",
    "                     decoder, encoder_optimizer, decoder_optimizer, criterion)\n",
    "        print_loss_total += loss\n",
    "        plot_loss_total += loss\n",
    "\n",
    "        if iter % print_every == 0:\n",
    "            print_loss_avg = print_loss_total / print_every\n",
    "            print_loss_total = 0\n",
    "            print('%d %f %.4f' % (iter, iter / n_iters * 100, print_loss_avg))\n",
    "\n",
    "        if iter % plot_every == 0:\n",
    "            plot_loss_avg = plot_loss_total / plot_every\n",
    "            plot_losses.append(plot_loss_avg)\n",
    "            plot_loss_total = 0\n",
    "\n",
    "    "
   ]
  },
  {
   "cell_type": "code",
   "execution_count": 39,
   "id": "f091936f",
   "metadata": {},
   "outputs": [],
   "source": [
    "def evaluate(encoder, decoder, sentence, max_length=MAX_LENGTH):\n",
    "    with torch.no_grad():\n",
    "        input_tensor = tensorFromSentence(dictionary, sentence)\n",
    "        input_length = input_tensor.size()[0]\n",
    "        encoder_hidden = encoder.initHidden()\n",
    "        #encoder_cs = encoder.initHidden()\n",
    "        encoder_outputs = torch.zeros(max_length, encoder.hidden_size, device=device)\n",
    "\n",
    "        for ei in range(input_length):\n",
    "            encoder_output, encoder_hidden = encoder(input_tensor[ei],\n",
    "                                                     encoder_hidden)\n",
    "            encoder_outputs[ei] += encoder_output[0, 0]\n",
    "\n",
    "        decoder_input = torch.tensor([[SOS_token]], device=device)  # SOS\n",
    "\n",
    "        decoder_hidden = encoder_hidden\n",
    "\n",
    "        decoded_words = []\n",
    "        decoder_attentions = torch.zeros(max_length, max_length)\n",
    "\n",
    "        for di in range(max_length):\n",
    "            decoder_output, decoder_hidden, decoder_attention = decoder(\n",
    "                decoder_input, decoder_hidden, encoder_outputs)\n",
    "            decoder_attentions[di] = decoder_attention.data\n",
    "            topv, topi = decoder_output.data.topk(1)\n",
    "            if topi.item() == EOS_token:\n",
    "                decoded_words.append('<EOS>')\n",
    "                break\n",
    "            else:\n",
    "                decoded_words.append(dictionary.index2word[topi.item()])\n",
    "\n",
    "            decoder_input = topi.squeeze().detach()\n",
    "\n",
    "        return decoded_words, decoder_attentions[:di + 1]\n",
    "    \n",
    "    "
   ]
  },
  {
   "cell_type": "code",
   "execution_count": 40,
   "id": "74286919",
   "metadata": {},
   "outputs": [],
   "source": [
    "def evaluateRandomly(encoder, decoder, n=10):\n",
    "    for i in range(n):\n",
    "        pair = random.choice(pairs)\n",
    "        print(pair[0]+\"/\"+pair[1])\n",
    "        output_words, attentions = evaluate(encoder, decoder, pair[0])\n",
    "        output_sentence = ' '.join(output_words)\n",
    "        print(output_sentence)"
   ]
  },
  {
   "cell_type": "code",
   "execution_count": null,
   "id": "f0f7034f",
   "metadata": {
    "scrolled": true
   },
   "outputs": [],
   "source": [
    "hidden_size = 512\n",
    "encoder1 = EncoderRNN(dictionary.n_words, hidden_size).to(device)\n",
    "attn_decoder1 = AttnDecoderRNN(hidden_size, dictionary.n_words, dropout_p=0.1).to(device)\n",
    "\n",
    "trainIters(encoder1, attn_decoder1, 10000, print_every=100, learning_rate=0.001)"
   ]
  },
  {
   "cell_type": "code",
   "execution_count": 43,
   "id": "9eff5d69",
   "metadata": {
    "scrolled": true
   },
   "outputs": [
    {
     "name": "stdout",
     "output_type": "stream",
     "text": [
      "100 5.000000 6.1875\n",
      "200 10.000000 6.1176\n",
      "300 15.000000 6.2772\n",
      "400 20.000000 6.1884\n",
      "500 25.000000 6.1859\n",
      "600 30.000000 6.1655\n",
      "700 35.000000 6.0419\n",
      "800 40.000000 6.4189\n",
      "900 45.000000 6.2004\n",
      "1000 50.000000 6.2071\n",
      "1100 55.000000 6.2220\n",
      "1200 60.000000 6.2699\n",
      "1300 65.000000 6.3062\n",
      "1400 70.000000 6.2382\n",
      "1500 75.000000 6.2988\n",
      "1600 80.000000 6.1417\n",
      "1700 85.000000 6.1458\n",
      "1800 90.000000 6.2715\n",
      "1900 95.000000 6.1478\n",
      "2000 100.000000 6.2483\n"
     ]
    }
   ],
   "source": [
    "trainIters(encoder1, attn_decoder1, 2000, print_every=100, learning_rate=0.001)"
   ]
  },
  {
   "cell_type": "code",
   "execution_count": 46,
   "id": "47417655",
   "metadata": {},
   "outputs": [],
   "source": [
    "import matplotlib.pyplot as plt\n",
    "import matplotlib.ticker as ticker\n",
    "import numpy as np\n",
    "\n",
    "\n",
    "def showPlot(points):\n",
    "    plt.figure()\n",
    "    fig, ax = plt.subplots()\n",
    "    loc = ticker.MultipleLocator(base=0.2)\n",
    "    ax.yaxis.set_major_locator(loc)\n",
    "    plt.plot(points)\n",
    "    plt.show()"
   ]
  },
  {
   "cell_type": "code",
   "execution_count": 50,
   "id": "a420e1e7",
   "metadata": {},
   "outputs": [
    {
     "data": {
      "text/plain": [
       "<Figure size 640x480 with 0 Axes>"
      ]
     },
     "metadata": {},
     "output_type": "display_data"
    },
    {
     "data": {
      "image/png": "[encoded data removed]",
      "text/plain": [
       "<Figure size 640x480 with 1 Axes>"
      ]
     },
     "metadata": {},
     "output_type": "display_data"
    }
   ],
   "source": [
    "showPlot(plot_losses)\n"
   ]
  },
  {
   "cell_type": "code",
   "execution_count": 55,
   "id": "05d325aa",
   "metadata": {},
   "outputs": [
    {
     "name": "stdout",
     "output_type": "stream",
     "text": [
      "بپوشد همی راز بر من چنین تو داناتری ای جهان آفرین/بدو گفت بیژن همه راستست ز من کار تو جمله برکاستست\n",
      "به پیش صف شد از دو نیم به هر سوی بر سر نهاد <EOS>\n"
     ]
    }
   ],
   "source": [
    "evaluateRandomly(encoder1, attn_decoder1,1)\n"
   ]
  },
  {
   "cell_type": "code",
   "execution_count": 62,
   "id": "3278ebf0",
   "metadata": {},
   "outputs": [
    {
     "name": "stdout",
     "output_type": "stream",
     "text": [
      "یکی بهره زیشان فرستم ببلخ بایرانیان بر کنم روز تلخ/دگر بهره بر سوی کابلستان بکابل کشم خاک زابلستان\n",
      "به پیش تو گفتی که ای مرد دلیر به مردی و به دانش و چون <EOS>\n"
     ]
    }
   ],
   "source": [
    "evaluateRandomly(encoder1, attn_decoder1,1)"
   ]
  },
  {
   "cell_type": "code",
   "execution_count": 64,
   "id": "ec01ea15",
   "metadata": {},
   "outputs": [
    {
     "name": "stdout",
     "output_type": "stream",
     "text": [
      "اگر ویژه ابری شود در بار کشنده پدر چون بود دوستدار/نخواند مرا موبد از آب پاک که بپرستم او را پدر زیر خاک\n",
      "چو خورشید تابان به گفتار و کردار چون من <EOS>\n"
     ]
    }
   ],
   "source": [
    "evaluateRandomly(encoder1, attn_decoder1,1)"
   ]
  },
  {
   "cell_type": "markdown",
   "id": "c2ee0e44",
   "metadata": {},
   "source": [
    "# LSTM"
   ]
  },
  {
   "cell_type": "code",
   "execution_count": 65,
   "id": "7d59e09f",
   "metadata": {},
   "outputs": [],
   "source": [
    "class EncoderRNN(nn.Module):\n",
    "    def __init__(self, input_size, hidden_size):\n",
    "        super(EncoderRNN, self).__init__()\n",
    "        self.hidden_size = hidden_size\n",
    "\n",
    "        self.embedding = nn.Embedding(input_size, hidden_size)\n",
    "        self.lstm = nn.LSTM(hidden_size, hidden_size)\n",
    "\n",
    "    def forward(self, input, hidden, cs):\n",
    "        embedded = self.embedding(input).view(1, 1, -1)\n",
    "        output = embedded\n",
    "        output, states = self.lstm(output, (hidden, cs))\n",
    "        hidden, c = states\n",
    "        return output, hidden, c\n",
    "\n",
    "    def initHidden(self):\n",
    "        return torch.zeros(1, 1, self.hidden_size, device=device)\n",
    "    \n",
    "    "
   ]
  },
  {
   "cell_type": "code",
   "execution_count": 66,
   "id": "6253bee4",
   "metadata": {},
   "outputs": [],
   "source": [
    "class AttnDecoderRNN(nn.Module):\n",
    "    def __init__(self, hidden_size, output_size, dropout_p=0.1, max_length=MAX_LENGTH):\n",
    "        super(AttnDecoderRNN, self).__init__()\n",
    "        self.hidden_size = hidden_size\n",
    "        self.output_size = output_size\n",
    "        self.dropout_p = dropout_p\n",
    "        self.max_length = max_length\n",
    "\n",
    "        self.embedding = nn.Embedding(self.output_size, self.hidden_size)\n",
    "        self.attn = nn.Linear(self.hidden_size * 2, self.max_length)\n",
    "        self.attn_combine = nn.Linear(self.hidden_size * 2, self.hidden_size)\n",
    "        self.dropout = nn.Dropout(self.dropout_p)\n",
    "        self.lstm = nn.LSTM(self.hidden_size, self.hidden_size)\n",
    "        self.out = nn.Linear(self.hidden_size, self.output_size)\n",
    "\n",
    "    def forward(self, input, hidden, cs, encoder_outputs):\n",
    "        embedded = self.embedding(input).view(1, 1, -1)\n",
    "        embedded = self.dropout(embedded)\n",
    "\n",
    "        attn_weights = F.softmax(\n",
    "            self.attn(torch.cat((embedded[0], hidden[0]), 1)), dim=1)\n",
    "        attn_applied = torch.bmm(attn_weights.unsqueeze(0),\n",
    "                                 encoder_outputs.unsqueeze(0))\n",
    "\n",
    "        output = torch.cat((embedded[0], attn_applied[0]), 1)\n",
    "        output = self.attn_combine(output).unsqueeze(0)\n",
    "\n",
    "        output = F.relu(output)\n",
    "        output, states = self.lstm(output, (hidden, cs))\n",
    "        hidden , c = states\n",
    "        output = F.log_softmax(self.out(output[0]), dim=1)\n",
    "        return output, hidden, c, attn_weights\n",
    "\n",
    "    def initHidden(self):\n",
    "        return torch.zeros(1, 1, self.hidden_size, device=device)\n",
    "    "
   ]
  },
  {
   "cell_type": "code",
   "execution_count": 69,
   "id": "70e91019",
   "metadata": {},
   "outputs": [],
   "source": [
    "teacher_forcing_ratio = 1\n",
    "\n",
    "\n",
    "def train(input_tensor, target_tensor, encoder, decoder, encoder_optimizer, decoder_optimizer, criterion, max_length=MAX_LENGTH):\n",
    "    encoder_hidden = encoder.initHidden()\n",
    "    encoder_c0 = encoder.initHidden()\n",
    "\n",
    "    encoder_optimizer.zero_grad()\n",
    "    decoder_optimizer.zero_grad()\n",
    "\n",
    "    input_length = input_tensor.size(0)\n",
    "    target_length = target_tensor.size(0)\n",
    "\n",
    "    encoder_outputs = torch.zeros(max_length, encoder.hidden_size, device=device)\n",
    "\n",
    "    loss = 0\n",
    "\n",
    "    for ei in range(input_length):\n",
    "        encoder_output, encoder_hidden, encoder_c0 = encoder(\n",
    "            input_tensor[ei], encoder_hidden, encoder_c0)\n",
    "        encoder_outputs[ei] = encoder_output[0, 0]\n",
    "\n",
    "    decoder_input = torch.tensor([[SOS_token]], device=device)\n",
    "\n",
    "    decoder_hidden = encoder_hidden\n",
    "    decoder_cs = encoder_c0\n",
    "    use_teacher_forcing = True if random.random() < teacher_forcing_ratio else False\n",
    "\n",
    "    if use_teacher_forcing:\n",
    "        # Teacher forcing: Feed the target as the next input\n",
    "        for di in range(target_length):\n",
    "            decoder_output, decoder_hidden, decoder_cs, decoder_attention = decoder(\n",
    "                decoder_input, decoder_hidden, decoder_cs, encoder_outputs)\n",
    "            loss += criterion(decoder_output, target_tensor[di])\n",
    "            decoder_input = target_tensor[di]  # Teacher forcing\n",
    "\n",
    "    else:\n",
    "        # Without teacher forcing: use its own predictions as the next input\n",
    "        for di in range(target_length):\n",
    "            decoder_output, decoder_hidden, decoder_cs, decoder_attention = decoder(\n",
    "                decoder_input, decoder_hidden, decoder_cs, encoder_outputs)\n",
    "            topv, topi = decoder_output.topk(1)\n",
    "            decoder_input = topi.squeeze().detach()  # detach from history as input\n",
    "\n",
    "            loss += criterion(decoder_output, target_tensor[di])\n",
    "            if decoder_input.item() == EOS_token:\n",
    "                break\n",
    "\n",
    "    loss.backward()\n",
    "\n",
    "    encoder_optimizer.step()\n",
    "    decoder_optimizer.step()\n",
    "\n",
    "    return loss.item() / target_length"
   ]
  },
  {
   "cell_type": "code",
   "execution_count": 74,
   "id": "51fcdf6e",
   "metadata": {},
   "outputs": [],
   "source": [
    "plot_losses = []"
   ]
  },
  {
   "cell_type": "code",
   "execution_count": 75,
   "id": "83f9f651",
   "metadata": {},
   "outputs": [],
   "source": [
    "def trainIters(encoder, decoder, n_iters, print_every=100, plot_every=100, learning_rate=0.01):\n",
    "    global plot_losses\n",
    "    print_loss_total = 0  # Reset every print_every\n",
    "    plot_loss_total = 0  # Reset every plot_every\n",
    "\n",
    "    encoder_optimizer = optim.Adam(encoder.parameters(), lr=learning_rate)\n",
    "    decoder_optimizer = optim.Adam(decoder.parameters(), lr=learning_rate)\n",
    "    training_pairs = [tensorsFromPair(random.choice(pairs))\n",
    "                      for i in range(n_iters)]\n",
    "    criterion = nn.CrossEntropyLoss()\n",
    "\n",
    "    for iter in range(1, n_iters + 1):\n",
    "        training_pair = training_pairs[iter - 1]\n",
    "        input_tensor = training_pair[0]\n",
    "        target_tensor = training_pair[1]\n",
    "\n",
    "        loss = train(input_tensor, target_tensor, encoder,\n",
    "                     decoder, encoder_optimizer, decoder_optimizer, criterion)\n",
    "        print_loss_total += loss\n",
    "        plot_loss_total += loss\n",
    "\n",
    "        if iter % print_every == 0:\n",
    "            print_loss_avg = print_loss_total / print_every\n",
    "            print_loss_total = 0\n",
    "            print('%d %f %.4f' % (iter, iter / n_iters * 100, print_loss_avg))\n",
    "\n",
    "        if iter % plot_every == 0:\n",
    "            plot_loss_avg = plot_loss_total / plot_every\n",
    "            plot_losses.append(plot_loss_avg)\n",
    "            plot_loss_total = 0\n",
    "\n"
   ]
  },
  {
   "cell_type": "code",
   "execution_count": 76,
   "id": "835798cc",
   "metadata": {},
   "outputs": [],
   "source": [
    "def evaluate(encoder, decoder, sentence, max_length=MAX_LENGTH):\n",
    "    with torch.no_grad():\n",
    "        input_tensor = tensorFromSentence(dictionary, sentence)\n",
    "        input_length = input_tensor.size()[0]\n",
    "        encoder_hidden = encoder.initHidden()\n",
    "        encoder_cs = encoder.initHidden()\n",
    "        encoder_outputs = torch.zeros(max_length, encoder.hidden_size, device=device)\n",
    "\n",
    "        for ei in range(input_length):\n",
    "            encoder_output, encoder_hidden, encoder_cs = encoder(input_tensor[ei],\n",
    "                                                     encoder_hidden, encoder_cs)\n",
    "            encoder_outputs[ei] += encoder_output[0, 0]\n",
    "\n",
    "        decoder_input = torch.tensor([[SOS_token]], device=device)  # SOS\n",
    "\n",
    "        decoder_hidden = encoder_hidden\n",
    "        decoder_cs = encoder_cs\n",
    "        decoded_words = []\n",
    "        decoder_attentions = torch.zeros(max_length, max_length)\n",
    "\n",
    "        for di in range(max_length):\n",
    "            decoder_output, decoder_hidden, encoder_cs,decoder_attention = decoder(\n",
    "                decoder_input, decoder_hidden, encoder_cs, encoder_outputs)\n",
    "            decoder_attentions[di] = decoder_attention.data\n",
    "            topv, topi = decoder_output.data.topk(1)\n",
    "            if topi.item() == EOS_token:\n",
    "                decoded_words.append('<EOS>')\n",
    "                break\n",
    "            else:\n",
    "                decoded_words.append(dictionary.index2word[topi.item()])\n",
    "\n",
    "            decoder_input = topi.squeeze().detach()\n",
    "\n",
    "        return decoded_words, decoder_attentions[:di + 1]\n",
    "    \n",
    "    "
   ]
  },
  {
   "cell_type": "code",
   "execution_count": 77,
   "id": "142b626a",
   "metadata": {},
   "outputs": [],
   "source": [
    "def evaluateRandomly(encoder, decoder, n=10):\n",
    "    for i in range(n):\n",
    "        pair = random.choice(pairs)\n",
    "        print(pair[0]+\"/\"+pair[1])\n",
    "        output_words, attentions = evaluate(encoder, decoder, pair[0])\n",
    "        output_sentence = ' '.join(output_words)\n",
    "        print(output_sentence)\n",
    "    "
   ]
  },
  {
   "cell_type": "code",
   "execution_count": 80,
   "id": "3009a056",
   "metadata": {
    "scrolled": true
   },
   "outputs": [
    {
     "name": "stdout",
     "output_type": "stream",
     "text": [
      "100 1.000000 8.0618\n",
      "200 2.000000 7.3208\n",
      "300 3.000000 7.1821\n",
      "400 4.000000 7.1697\n",
      "500 5.000000 6.8268\n",
      "600 6.000000 6.9187\n",
      "700 7.000000 6.7796\n",
      "800 8.000000 6.8954\n",
      "900 9.000000 6.7809\n",
      "1000 10.000000 6.6179\n",
      "1100 11.000000 6.7174\n",
      "1200 12.000000 6.7242\n",
      "1300 13.000000 6.7136\n",
      "1400 14.000000 6.6963\n",
      "1500 15.000000 6.7909\n",
      "1600 16.000000 6.6602\n",
      "1700 17.000000 6.7722\n",
      "1800 18.000000 6.5752\n",
      "1900 19.000000 6.4599\n",
      "2000 20.000000 6.5608\n",
      "2100 21.000000 6.6835\n",
      "2200 22.000000 6.5139\n",
      "2300 23.000000 6.5743\n",
      "2400 24.000000 6.5572\n",
      "2500 25.000000 6.4427\n",
      "2600 26.000000 6.5744\n",
      "2700 27.000000 6.5646\n",
      "2800 28.000000 6.6746\n",
      "2900 29.000000 6.4153\n",
      "3000 30.000000 6.3618\n",
      "3100 31.000000 6.5758\n",
      "3200 32.000000 6.4174\n",
      "3300 33.000000 6.4268\n",
      "3400 34.000000 6.2248\n",
      "3500 35.000000 6.3713\n",
      "3600 36.000000 6.4791\n",
      "3700 37.000000 6.3401\n",
      "3800 38.000000 6.4444\n",
      "3900 39.000000 6.3687\n",
      "4000 40.000000 6.3596\n",
      "4100 41.000000 6.4523\n",
      "4200 42.000000 6.4500\n",
      "4300 43.000000 6.4005\n",
      "4400 44.000000 6.4313\n",
      "4500 45.000000 6.5629\n",
      "4600 46.000000 6.4010\n",
      "4700 47.000000 6.3676\n",
      "4800 48.000000 6.4367\n",
      "4900 49.000000 6.4611\n",
      "5000 50.000000 6.4816\n",
      "5100 51.000000 6.4305\n",
      "5200 52.000000 6.3053\n",
      "5300 53.000000 6.2784\n",
      "5400 54.000000 6.4252\n",
      "5500 55.000000 6.1898\n",
      "5600 56.000000 6.3265\n",
      "5700 57.000000 6.5238\n",
      "5800 58.000000 6.2241\n",
      "5900 59.000000 6.1309\n",
      "6000 60.000000 6.2854\n",
      "6100 61.000000 6.3073\n",
      "6200 62.000000 6.3921\n",
      "6300 63.000000 6.0847\n",
      "6400 64.000000 6.4133\n",
      "6500 65.000000 6.1385\n",
      "6600 66.000000 6.3368\n",
      "6700 67.000000 6.3373\n",
      "6800 68.000000 6.2929\n",
      "6900 69.000000 6.2791\n",
      "7000 70.000000 6.1531\n",
      "7100 71.000000 6.2862\n",
      "7200 72.000000 6.3706\n",
      "7300 73.000000 6.2142\n",
      "7400 74.000000 5.9008\n",
      "7500 75.000000 6.2899\n",
      "7600 76.000000 6.2052\n",
      "7700 77.000000 6.1905\n",
      "7800 78.000000 6.2934\n",
      "7900 79.000000 6.3387\n",
      "8000 80.000000 6.0838\n",
      "8100 81.000000 6.2958\n",
      "8200 82.000000 6.1124\n",
      "8300 83.000000 6.1655\n",
      "8400 84.000000 6.0385\n",
      "8500 85.000000 6.0902\n",
      "8600 86.000000 6.1492\n",
      "8700 87.000000 6.1768\n",
      "8800 88.000000 6.2267\n",
      "8900 89.000000 6.1480\n",
      "9000 90.000000 6.3675\n",
      "9100 91.000000 5.9991\n",
      "9200 92.000000 6.0317\n",
      "9300 93.000000 6.1878\n",
      "9400 94.000000 6.2018\n",
      "9500 95.000000 6.0469\n",
      "9600 96.000000 6.0820\n",
      "9700 97.000000 6.2658\n",
      "9800 98.000000 6.1944\n",
      "9900 99.000000 6.2296\n",
      "10000 100.000000 6.0910\n"
     ]
    }
   ],
   "source": [
    "hidden_size = 512\n",
    "encoderlstm = EncoderRNN(dictionary.n_words, hidden_size).to(device)\n",
    "attn_decoderlstm = AttnDecoderRNN(hidden_size, dictionary.n_words, dropout_p=0.1).to(device)\n",
    "\n",
    "trainIters(encoderlstm, attn_decoderlstm, 10000, print_every=100, learning_rate=0.001)"
   ]
  },
  {
   "cell_type": "code",
   "execution_count": 82,
   "id": "0c85aaca",
   "metadata": {
    "scrolled": true
   },
   "outputs": [
    {
     "name": "stdout",
     "output_type": "stream",
     "text": [
      "100 10.000000 6.1795\n",
      "200 20.000000 6.2771\n",
      "300 30.000000 6.3263\n",
      "400 40.000000 6.2439\n",
      "500 50.000000 6.3088\n",
      "600 60.000000 6.2117\n",
      "700 70.000000 6.2216\n",
      "800 80.000000 6.5367\n",
      "900 90.000000 6.2375\n",
      "1000 100.000000 6.1480\n"
     ]
    }
   ],
   "source": [
    "trainIters(encoderlstm, attn_decoderlstm, 1000, print_every=100, learning_rate=0.001)"
   ]
  },
  {
   "cell_type": "code",
   "execution_count": 83,
   "id": "753590f0",
   "metadata": {},
   "outputs": [
    {
     "data": {
      "text/plain": [
       "110"
      ]
     },
     "execution_count": 83,
     "metadata": {},
     "output_type": "execute_result"
    }
   ],
   "source": [
    "len(plot_losses)"
   ]
  },
  {
   "cell_type": "code",
   "execution_count": 84,
   "id": "c8088525",
   "metadata": {},
   "outputs": [],
   "source": [
    "import matplotlib.pyplot as plt\n",
    "import matplotlib.ticker as ticker\n",
    "import numpy as np\n",
    "\n",
    "\n",
    "def showPlot(points):\n",
    "    plt.figure()\n",
    "    fig, ax = plt.subplots()\n",
    "    loc = ticker.MultipleLocator(base=0.2)\n",
    "    ax.yaxis.set_major_locator(loc)\n",
    "    plt.plot(points)\n",
    "    plt.show()"
   ]
  },
  {
   "cell_type": "code",
   "execution_count": 138,
   "id": "ec045f1d",
   "metadata": {},
   "outputs": [
    {
     "data": {
      "text/plain": [
       "<Figure size 640x480 with 0 Axes>"
      ]
     },
     "metadata": {},
     "output_type": "display_data"
    },
    {
     "data": {
      "image/png": "[encoded data removed]",
      "text/plain": [
       "<Figure size 640x480 with 1 Axes>"
      ]
     },
     "metadata": {},
     "output_type": "display_data"
    }
   ],
   "source": [
    "showPlot(plot_losses)\n"
   ]
  },
  {
   "cell_type": "code",
   "execution_count": 88,
   "id": "e2c31b18",
   "metadata": {},
   "outputs": [
    {
     "name": "stdout",
     "output_type": "stream",
     "text": [
      "دل شاه تا جاودان شاد باد ز کژی و ویرانی آباد باد/چو بشنید شاه این سخن گفت زه سزاوار تاجی تو این روزبه\n",
      "چو بشنید با او را به سر بر تخت عاج <EOS>\n"
     ]
    }
   ],
   "source": [
    "evaluateRandomly(encoderlstm, attn_decoderlstm,1)\n"
   ]
  },
  {
   "cell_type": "code",
   "execution_count": 135,
   "id": "95b86ad4",
   "metadata": {},
   "outputs": [
    {
     "name": "stdout",
     "output_type": "stream",
     "text": [
      "مرا سالیان هست هفتاد و هشت ندیدم که کشتی بروبر گذشت/بدو گفت پر مایه افراسیاب که فرخ کسی کو بمیرد در آب\n",
      "چو بشنید با او را به سر به سر و رای و رای و به راه و کلاه <EOS>\n"
     ]
    }
   ],
   "source": [
    "evaluateRandomly(encoderlstm, attn_decoderlstm,1)"
   ]
  },
  {
   "cell_type": "code",
   "execution_count": null,
   "id": "0c3f7de5",
   "metadata": {},
   "outputs": [],
   "source": []
  }
 ],
 "metadata": {
  "kernelspec": {
   "display_name": "Python 3 (ipykernel)",
   "language": "python",
   "name": "python3"
  },
  "language_info": {
   "codemirror_mode": {
    "name": "ipython",
    "version": 3
   },
   "file_extension": ".py",
   "mimetype": "text/x-python",
   "name": "python",
   "nbconvert_exporter": "python",
   "pygments_lexer": "ipython3",
   "version": "3.9.13"
  }
 },
 "nbformat": 4,
 "nbformat_minor": 5
}
